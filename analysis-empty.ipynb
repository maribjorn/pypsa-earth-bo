{
 "cells": [
  {
   "cell_type": "code",
   "execution_count": 2,
   "metadata": {},
   "outputs": [],
   "source": [
    "import pypsa\n",
    "import matplotlib.pyplot as plt\n",
    "plt.style.use('bmh')\n",
    "%matplotlib inline"
   ]
  },
  {
   "cell_type": "code",
   "execution_count": 5,
   "metadata": {},
   "outputs": [
    {
     "name": "stderr",
     "output_type": "stream",
     "text": [
      "c:\\Users\\marih\\anaconda3\\envs\\pypsa-earth\\lib\\site-packages\\pypsa\\components.py:318: FutureWarning: Setting an item of incompatible dtype is deprecated and will raise in a future error of pandas. Value '[]' has dtype incompatible with float64, please explicitly cast to a compatible dtype first.\n",
      "  attrs.loc[bool_b, \"default\"] = attrs.loc[bool_b].isin({True, \"True\"})\n",
      "c:\\Users\\marih\\anaconda3\\envs\\pypsa-earth\\lib\\site-packages\\pypsa\\components.py:318: FutureWarning: Setting an item of incompatible dtype is deprecated and will raise in a future error of pandas. Value '[]' has dtype incompatible with float64, please explicitly cast to a compatible dtype first.\n",
      "  attrs.loc[bool_b, \"default\"] = attrs.loc[bool_b].isin({True, \"True\"})\n",
      "c:\\Users\\marih\\anaconda3\\envs\\pypsa-earth\\lib\\site-packages\\pypsa\\components.py:318: FutureWarning: Setting an item of incompatible dtype is deprecated and will raise in a future error of pandas. Value '[]' has dtype incompatible with float64, please explicitly cast to a compatible dtype first.\n",
      "  attrs.loc[bool_b, \"default\"] = attrs.loc[bool_b].isin({True, \"True\"})\n",
      "c:\\Users\\marih\\anaconda3\\envs\\pypsa-earth\\lib\\site-packages\\pypsa\\components.py:318: FutureWarning: Setting an item of incompatible dtype is deprecated and will raise in a future error of pandas. Value '[]' has dtype incompatible with float64, please explicitly cast to a compatible dtype first.\n",
      "  attrs.loc[bool_b, \"default\"] = attrs.loc[bool_b].isin({True, \"True\"})\n",
      "INFO:pypsa.io:Imported network elec_s_6_ec_lcopt_Co2L-24H.nc has buses, carriers, generators, global_constraints, lines, links, loads, storage_units, stores\n"
     ]
    }
   ],
   "source": [
    "n = pypsa.Network(\"networks/elec_s_6_ec_lcopt_Co2L-24H.nc\")"
   ]
  },
  {
   "cell_type": "code",
   "execution_count": 6,
   "metadata": {},
   "outputs": [
    {
     "data": {
      "text/plain": [
       "(<matplotlib.collections.PatchCollection at 0x299637607c0>,\n",
       " <matplotlib.collections.LineCollection at 0x2996362f670>,\n",
       " <matplotlib.collections.LineCollection at 0x29963988430>)"
      ]
     },
     "execution_count": 6,
     "metadata": {},
     "output_type": "execute_result"
    },
    {
     "name": "stderr",
     "output_type": "stream",
     "text": [
      "c:\\Users\\marih\\anaconda3\\envs\\pypsa-earth\\lib\\site-packages\\cartopy\\io\\__init__.py:241: DownloadWarning: Downloading: https://naturalearth.s3.amazonaws.com/50m_cultural/ne_50m_admin_0_boundary_lines_land.zip\n",
      "  warnings.warn(f'Downloading: {url}', DownloadWarning)\n",
      "c:\\Users\\marih\\anaconda3\\envs\\pypsa-earth\\lib\\site-packages\\cartopy\\mpl\\style.py:76: UserWarning: facecolor will have no effect as it has been defined as \"never\".\n",
      "  warnings.warn('facecolor will have no effect as it has been '\n",
      "c:\\Users\\marih\\anaconda3\\envs\\pypsa-earth\\lib\\site-packages\\cartopy\\io\\__init__.py:241: DownloadWarning: Downloading: https://naturalearth.s3.amazonaws.com/50m_physical/ne_50m_coastline.zip\n",
      "  warnings.warn(f'Downloading: {url}', DownloadWarning)\n"
     ]
    },
    {
     "data": {
      "image/png": "[encoded data removed]",
      "text/plain": [
       "<Figure size 640x480 with 1 Axes>"
      ]
     },
     "metadata": {},
     "output_type": "display_data"
    }
   ],
   "source": [
    "n.plot()"
   ]
  },
  {
   "cell_type": "code",
   "execution_count": 8,
   "metadata": {},
   "outputs": [
    {
     "name": "stdout",
     "output_type": "stream",
     "text": [
      "Component 'Bus' has 18 entries\n",
      "Component 'Carrier' has 17 entries\n",
      "Component 'GlobalConstraint' has 1 entries\n",
      "Component 'Line' has 4 entries\n",
      "Component 'LineType' has 34 entries\n",
      "Component 'TransformerType' has 14 entries\n",
      "Component 'Link' has 24 entries\n",
      "Component 'Load' has 6 entries\n",
      "Component 'Generator' has 26 entries\n",
      "Component 'StorageUnit' has 2 entries\n",
      "Component 'Store' has 12 entries\n"
     ]
    }
   ],
   "source": [
    "for c in n.iterate_components(list(n.components.keys())[2:]):\n",
    "    print(\"Component '{}' has {} entries\".format(c.name, len(c.df)))"
   ]
  },
  {
   "cell_type": "code",
   "execution_count": 10,
   "metadata": {},
   "outputs": [
    {
     "data": {
      "text/plain": [
       "6"
      ]
     },
     "execution_count": 10,
     "metadata": {},
     "output_type": "execute_result"
    }
   ],
   "source": [
    "#Temporal resolution\n",
    "\n",
    "n.snapshots[:10]\n",
    "len(n.snapshots[:10])"
   ]
  },
  {
   "cell_type": "code",
   "execution_count": 11,
   "metadata": {},
   "outputs": [
    {
     "data": {
      "text/html": [
       "<div>\n",
       "<style scoped>\n",
       "    .dataframe tbody tr th:only-of-type {\n",
       "        vertical-align: middle;\n",
       "    }\n",
       "\n",
       "    .dataframe tbody tr th {\n",
       "        vertical-align: top;\n",
       "    }\n",
       "\n",
       "    .dataframe thead th {\n",
       "        text-align: right;\n",
       "    }\n",
       "</style>\n",
       "<table border=\"1\" class=\"dataframe\">\n",
       "  <thead>\n",
       "    <tr style=\"text-align: right;\">\n",
       "      <th></th>\n",
       "      <th>bus0</th>\n",
       "      <th>bus1</th>\n",
       "      <th>length</th>\n",
       "      <th>num_parallel</th>\n",
       "      <th>carrier</th>\n",
       "      <th>type</th>\n",
       "      <th>s_max_pu</th>\n",
       "      <th>s_nom</th>\n",
       "      <th>capital_cost</th>\n",
       "      <th>s_nom_extendable</th>\n",
       "      <th>...</th>\n",
       "      <th>v_ang_min</th>\n",
       "      <th>v_ang_max</th>\n",
       "      <th>sub_network</th>\n",
       "      <th>x_pu</th>\n",
       "      <th>r_pu</th>\n",
       "      <th>g_pu</th>\n",
       "      <th>b_pu</th>\n",
       "      <th>x_pu_eff</th>\n",
       "      <th>r_pu_eff</th>\n",
       "      <th>s_nom_opt</th>\n",
       "    </tr>\n",
       "    <tr>\n",
       "      <th>Line</th>\n",
       "      <th></th>\n",
       "      <th></th>\n",
       "      <th></th>\n",
       "      <th></th>\n",
       "      <th></th>\n",
       "      <th></th>\n",
       "      <th></th>\n",
       "      <th></th>\n",
       "      <th></th>\n",
       "      <th></th>\n",
       "      <th></th>\n",
       "      <th></th>\n",
       "      <th></th>\n",
       "      <th></th>\n",
       "      <th></th>\n",
       "      <th></th>\n",
       "      <th></th>\n",
       "      <th></th>\n",
       "      <th></th>\n",
       "      <th></th>\n",
       "      <th></th>\n",
       "    </tr>\n",
       "  </thead>\n",
       "  <tbody>\n",
       "    <tr>\n",
       "      <th>1</th>\n",
       "      <td>NG1 0</td>\n",
       "      <td>NG1 1</td>\n",
       "      <td>602.406419</td>\n",
       "      <td>2.368421</td>\n",
       "      <td>AC</td>\n",
       "      <td>Al/St 240/40 4-bundle 380.0</td>\n",
       "      <td>0.7</td>\n",
       "      <td>4021.821975</td>\n",
       "      <td>24780.654839</td>\n",
       "      <td>True</td>\n",
       "      <td>...</td>\n",
       "      <td>-inf</td>\n",
       "      <td>inf</td>\n",
       "      <td></td>\n",
       "      <td>0.0</td>\n",
       "      <td>0.0</td>\n",
       "      <td>0.0</td>\n",
       "      <td>0.0</td>\n",
       "      <td>0.0</td>\n",
       "      <td>0.0</td>\n",
       "      <td>0.0</td>\n",
       "    </tr>\n",
       "    <tr>\n",
       "      <th>2</th>\n",
       "      <td>NG1 0</td>\n",
       "      <td>NG1 2</td>\n",
       "      <td>388.614230</td>\n",
       "      <td>1.776316</td>\n",
       "      <td>AC</td>\n",
       "      <td>Al/St 240/40 4-bundle 380.0</td>\n",
       "      <td>0.7</td>\n",
       "      <td>3016.366481</td>\n",
       "      <td>15986.076496</td>\n",
       "      <td>True</td>\n",
       "      <td>...</td>\n",
       "      <td>-inf</td>\n",
       "      <td>inf</td>\n",
       "      <td></td>\n",
       "      <td>0.0</td>\n",
       "      <td>0.0</td>\n",
       "      <td>0.0</td>\n",
       "      <td>0.0</td>\n",
       "      <td>0.0</td>\n",
       "      <td>0.0</td>\n",
       "      <td>0.0</td>\n",
       "    </tr>\n",
       "    <tr>\n",
       "      <th>3</th>\n",
       "      <td>NG1 1</td>\n",
       "      <td>NG1 2</td>\n",
       "      <td>630.416910</td>\n",
       "      <td>1.776316</td>\n",
       "      <td>AC</td>\n",
       "      <td>Al/St 240/40 4-bundle 380.0</td>\n",
       "      <td>0.7</td>\n",
       "      <td>3016.366481</td>\n",
       "      <td>25932.897366</td>\n",
       "      <td>True</td>\n",
       "      <td>...</td>\n",
       "      <td>-inf</td>\n",
       "      <td>inf</td>\n",
       "      <td></td>\n",
       "      <td>0.0</td>\n",
       "      <td>0.0</td>\n",
       "      <td>0.0</td>\n",
       "      <td>0.0</td>\n",
       "      <td>0.0</td>\n",
       "      <td>0.0</td>\n",
       "      <td>0.0</td>\n",
       "    </tr>\n",
       "    <tr>\n",
       "      <th>4</th>\n",
       "      <td>NG1 1</td>\n",
       "      <td>NG1 3</td>\n",
       "      <td>659.996456</td>\n",
       "      <td>0.881579</td>\n",
       "      <td>AC</td>\n",
       "      <td>Al/St 240/40 4-bundle 380.0</td>\n",
       "      <td>0.7</td>\n",
       "      <td>1497.011513</td>\n",
       "      <td>27149.684753</td>\n",
       "      <td>True</td>\n",
       "      <td>...</td>\n",
       "      <td>-inf</td>\n",
       "      <td>inf</td>\n",
       "      <td></td>\n",
       "      <td>0.0</td>\n",
       "      <td>0.0</td>\n",
       "      <td>0.0</td>\n",
       "      <td>0.0</td>\n",
       "      <td>0.0</td>\n",
       "      <td>0.0</td>\n",
       "      <td>0.0</td>\n",
       "    </tr>\n",
       "  </tbody>\n",
       "</table>\n",
       "<p>4 rows × 29 columns</p>\n",
       "</div>"
      ],
      "text/plain": [
       "       bus0   bus1      length  num_parallel carrier  \\\n",
       "Line                                                   \n",
       "1     NG1 0  NG1 1  602.406419      2.368421      AC   \n",
       "2     NG1 0  NG1 2  388.614230      1.776316      AC   \n",
       "3     NG1 1  NG1 2  630.416910      1.776316      AC   \n",
       "4     NG1 1  NG1 3  659.996456      0.881579      AC   \n",
       "\n",
       "                             type  s_max_pu        s_nom  capital_cost  \\\n",
       "Line                                                                     \n",
       "1     Al/St 240/40 4-bundle 380.0       0.7  4021.821975  24780.654839   \n",
       "2     Al/St 240/40 4-bundle 380.0       0.7  3016.366481  15986.076496   \n",
       "3     Al/St 240/40 4-bundle 380.0       0.7  3016.366481  25932.897366   \n",
       "4     Al/St 240/40 4-bundle 380.0       0.7  1497.011513  27149.684753   \n",
       "\n",
       "      s_nom_extendable  ...  v_ang_min  v_ang_max  sub_network  x_pu  r_pu  \\\n",
       "Line                    ...                                                  \n",
       "1                 True  ...       -inf        inf                0.0   0.0   \n",
       "2                 True  ...       -inf        inf                0.0   0.0   \n",
       "3                 True  ...       -inf        inf                0.0   0.0   \n",
       "4                 True  ...       -inf        inf                0.0   0.0   \n",
       "\n",
       "      g_pu  b_pu  x_pu_eff  r_pu_eff  s_nom_opt  \n",
       "Line                                             \n",
       "1      0.0   0.0       0.0       0.0        0.0  \n",
       "2      0.0   0.0       0.0       0.0        0.0  \n",
       "3      0.0   0.0       0.0       0.0        0.0  \n",
       "4      0.0   0.0       0.0       0.0        0.0  \n",
       "\n",
       "[4 rows x 29 columns]"
      ]
     },
     "execution_count": 11,
     "metadata": {},
     "output_type": "execute_result"
    }
   ],
   "source": [
    "#Static component data\n",
    "\n",
    "n.lines.head()"
   ]
  },
  {
   "cell_type": "code",
   "execution_count": 12,
   "metadata": {},
   "outputs": [
    {
     "data": {
      "text/html": [
       "<div>\n",
       "<style scoped>\n",
       "    .dataframe tbody tr th:only-of-type {\n",
       "        vertical-align: middle;\n",
       "    }\n",
       "\n",
       "    .dataframe tbody tr th {\n",
       "        vertical-align: top;\n",
       "    }\n",
       "\n",
       "    .dataframe thead th {\n",
       "        text-align: right;\n",
       "    }\n",
       "</style>\n",
       "<table border=\"1\" class=\"dataframe\">\n",
       "  <thead>\n",
       "    <tr style=\"text-align: right;\">\n",
       "      <th></th>\n",
       "      <th>p_nom_max</th>\n",
       "      <th>weight</th>\n",
       "      <th>p_nom</th>\n",
       "      <th>capital_cost</th>\n",
       "      <th>efficiency</th>\n",
       "      <th>p_nom_min</th>\n",
       "      <th>marginal_cost</th>\n",
       "      <th>p_nom_extendable</th>\n",
       "      <th>carrier</th>\n",
       "      <th>bus</th>\n",
       "      <th>...</th>\n",
       "      <th>start_up_cost</th>\n",
       "      <th>shut_down_cost</th>\n",
       "      <th>min_up_time</th>\n",
       "      <th>min_down_time</th>\n",
       "      <th>up_time_before</th>\n",
       "      <th>down_time_before</th>\n",
       "      <th>ramp_limit_up</th>\n",
       "      <th>ramp_limit_down</th>\n",
       "      <th>ramp_limit_start_up</th>\n",
       "      <th>ramp_limit_shut_down</th>\n",
       "    </tr>\n",
       "    <tr>\n",
       "      <th>Generator</th>\n",
       "      <th></th>\n",
       "      <th></th>\n",
       "      <th></th>\n",
       "      <th></th>\n",
       "      <th></th>\n",
       "      <th></th>\n",
       "      <th></th>\n",
       "      <th></th>\n",
       "      <th></th>\n",
       "      <th></th>\n",
       "      <th></th>\n",
       "      <th></th>\n",
       "      <th></th>\n",
       "      <th></th>\n",
       "      <th></th>\n",
       "      <th></th>\n",
       "      <th></th>\n",
       "      <th></th>\n",
       "      <th></th>\n",
       "      <th></th>\n",
       "      <th></th>\n",
       "    </tr>\n",
       "  </thead>\n",
       "  <tbody>\n",
       "    <tr>\n",
       "      <th>BJ0 0 onwind</th>\n",
       "      <td>1.575847e+05</td>\n",
       "      <td>11091.383600</td>\n",
       "      <td>0.000000</td>\n",
       "      <td>96085.888020</td>\n",
       "      <td>1.00</td>\n",
       "      <td>0.000000</td>\n",
       "      <td>0.015000</td>\n",
       "      <td>True</td>\n",
       "      <td>onwind</td>\n",
       "      <td>BJ0 0</td>\n",
       "      <td>...</td>\n",
       "      <td>0.0</td>\n",
       "      <td>0.0</td>\n",
       "      <td>0</td>\n",
       "      <td>0</td>\n",
       "      <td>1</td>\n",
       "      <td>0</td>\n",
       "      <td>NaN</td>\n",
       "      <td>NaN</td>\n",
       "      <td>1.0</td>\n",
       "      <td>1.0</td>\n",
       "    </tr>\n",
       "    <tr>\n",
       "      <th>BJ0 0 solar</th>\n",
       "      <td>1.850860e+05</td>\n",
       "      <td>30580.190887</td>\n",
       "      <td>2.378612</td>\n",
       "      <td>35602.071244</td>\n",
       "      <td>1.00</td>\n",
       "      <td>2.378612</td>\n",
       "      <td>0.010000</td>\n",
       "      <td>True</td>\n",
       "      <td>solar</td>\n",
       "      <td>BJ0 0</td>\n",
       "      <td>...</td>\n",
       "      <td>0.0</td>\n",
       "      <td>0.0</td>\n",
       "      <td>0</td>\n",
       "      <td>0</td>\n",
       "      <td>1</td>\n",
       "      <td>0</td>\n",
       "      <td>NaN</td>\n",
       "      <td>NaN</td>\n",
       "      <td>1.0</td>\n",
       "      <td>1.0</td>\n",
       "    </tr>\n",
       "    <tr>\n",
       "      <th>NG1 0 CCGT</th>\n",
       "      <td>inf</td>\n",
       "      <td>0.000000</td>\n",
       "      <td>10331.305998</td>\n",
       "      <td>99027.729293</td>\n",
       "      <td>0.58</td>\n",
       "      <td>10331.305998</td>\n",
       "      <td>38.855172</td>\n",
       "      <td>False</td>\n",
       "      <td>CCGT</td>\n",
       "      <td>NG1 0</td>\n",
       "      <td>...</td>\n",
       "      <td>0.0</td>\n",
       "      <td>0.0</td>\n",
       "      <td>0</td>\n",
       "      <td>0</td>\n",
       "      <td>1</td>\n",
       "      <td>0</td>\n",
       "      <td>NaN</td>\n",
       "      <td>NaN</td>\n",
       "      <td>1.0</td>\n",
       "      <td>1.0</td>\n",
       "    </tr>\n",
       "    <tr>\n",
       "      <th>NG1 0 coal</th>\n",
       "      <td>inf</td>\n",
       "      <td>0.000000</td>\n",
       "      <td>4218.500000</td>\n",
       "      <td>349976.553630</td>\n",
       "      <td>0.33</td>\n",
       "      <td>4218.500000</td>\n",
       "      <td>28.196970</td>\n",
       "      <td>False</td>\n",
       "      <td>coal</td>\n",
       "      <td>NG1 0</td>\n",
       "      <td>...</td>\n",
       "      <td>0.0</td>\n",
       "      <td>0.0</td>\n",
       "      <td>0</td>\n",
       "      <td>0</td>\n",
       "      <td>1</td>\n",
       "      <td>0</td>\n",
       "      <td>NaN</td>\n",
       "      <td>NaN</td>\n",
       "      <td>1.0</td>\n",
       "      <td>1.0</td>\n",
       "    </tr>\n",
       "    <tr>\n",
       "      <th>NG1 0 offwind-ac</th>\n",
       "      <td>3.362238e+04</td>\n",
       "      <td>2827.806209</td>\n",
       "      <td>0.000000</td>\n",
       "      <td>195404.232224</td>\n",
       "      <td>1.00</td>\n",
       "      <td>0.000000</td>\n",
       "      <td>0.015000</td>\n",
       "      <td>True</td>\n",
       "      <td>offwind-ac</td>\n",
       "      <td>NG1 0</td>\n",
       "      <td>...</td>\n",
       "      <td>0.0</td>\n",
       "      <td>0.0</td>\n",
       "      <td>0</td>\n",
       "      <td>0</td>\n",
       "      <td>1</td>\n",
       "      <td>0</td>\n",
       "      <td>NaN</td>\n",
       "      <td>NaN</td>\n",
       "      <td>1.0</td>\n",
       "      <td>1.0</td>\n",
       "    </tr>\n",
       "  </tbody>\n",
       "</table>\n",
       "<p>5 rows × 32 columns</p>\n",
       "</div>"
      ],
      "text/plain": [
       "                     p_nom_max        weight         p_nom   capital_cost  \\\n",
       "Generator                                                                   \n",
       "BJ0 0 onwind      1.575847e+05  11091.383600      0.000000   96085.888020   \n",
       "BJ0 0 solar       1.850860e+05  30580.190887      2.378612   35602.071244   \n",
       "NG1 0 CCGT                 inf      0.000000  10331.305998   99027.729293   \n",
       "NG1 0 coal                 inf      0.000000   4218.500000  349976.553630   \n",
       "NG1 0 offwind-ac  3.362238e+04   2827.806209      0.000000  195404.232224   \n",
       "\n",
       "                  efficiency     p_nom_min  marginal_cost  p_nom_extendable  \\\n",
       "Generator                                                                     \n",
       "BJ0 0 onwind            1.00      0.000000       0.015000              True   \n",
       "BJ0 0 solar             1.00      2.378612       0.010000              True   \n",
       "NG1 0 CCGT              0.58  10331.305998      38.855172             False   \n",
       "NG1 0 coal              0.33   4218.500000      28.196970             False   \n",
       "NG1 0 offwind-ac        1.00      0.000000       0.015000              True   \n",
       "\n",
       "                     carrier    bus  ... start_up_cost  shut_down_cost  \\\n",
       "Generator                            ...                                 \n",
       "BJ0 0 onwind          onwind  BJ0 0  ...           0.0             0.0   \n",
       "BJ0 0 solar            solar  BJ0 0  ...           0.0             0.0   \n",
       "NG1 0 CCGT              CCGT  NG1 0  ...           0.0             0.0   \n",
       "NG1 0 coal              coal  NG1 0  ...           0.0             0.0   \n",
       "NG1 0 offwind-ac  offwind-ac  NG1 0  ...           0.0             0.0   \n",
       "\n",
       "                 min_up_time  min_down_time  up_time_before  down_time_before  \\\n",
       "Generator                                                                       \n",
       "BJ0 0 onwind               0              0               1                 0   \n",
       "BJ0 0 solar                0              0               1                 0   \n",
       "NG1 0 CCGT                 0              0               1                 0   \n",
       "NG1 0 coal                 0              0               1                 0   \n",
       "NG1 0 offwind-ac           0              0               1                 0   \n",
       "\n",
       "                  ramp_limit_up  ramp_limit_down  ramp_limit_start_up  \\\n",
       "Generator                                                               \n",
       "BJ0 0 onwind                NaN              NaN                  1.0   \n",
       "BJ0 0 solar                 NaN              NaN                  1.0   \n",
       "NG1 0 CCGT                  NaN              NaN                  1.0   \n",
       "NG1 0 coal                  NaN              NaN                  1.0   \n",
       "NG1 0 offwind-ac            NaN              NaN                  1.0   \n",
       "\n",
       "                  ramp_limit_shut_down  \n",
       "Generator                               \n",
       "BJ0 0 onwind                       1.0  \n",
       "BJ0 0 solar                        1.0  \n",
       "NG1 0 CCGT                         1.0  \n",
       "NG1 0 coal                         1.0  \n",
       "NG1 0 offwind-ac                   1.0  \n",
       "\n",
       "[5 rows x 32 columns]"
      ]
     },
     "execution_count": 12,
     "metadata": {},
     "output_type": "execute_result"
    }
   ],
   "source": [
    "n.generators.head()"
   ]
  },
  {
   "cell_type": "code",
   "execution_count": 13,
   "metadata": {},
   "outputs": [
    {
     "data": {
      "text/html": [
       "<div>\n",
       "<style scoped>\n",
       "    .dataframe tbody tr th:only-of-type {\n",
       "        vertical-align: middle;\n",
       "    }\n",
       "\n",
       "    .dataframe tbody tr th {\n",
       "        vertical-align: top;\n",
       "    }\n",
       "\n",
       "    .dataframe thead th {\n",
       "        text-align: right;\n",
       "    }\n",
       "</style>\n",
       "<table border=\"1\" class=\"dataframe\">\n",
       "  <thead>\n",
       "    <tr style=\"text-align: right;\">\n",
       "      <th></th>\n",
       "      <th>bus</th>\n",
       "      <th>efficiency_store</th>\n",
       "      <th>p_min_pu</th>\n",
       "      <th>efficiency_dispatch</th>\n",
       "      <th>cyclic_state_of_charge</th>\n",
       "      <th>p_nom</th>\n",
       "      <th>carrier</th>\n",
       "      <th>max_hours</th>\n",
       "      <th>control</th>\n",
       "      <th>type</th>\n",
       "      <th>...</th>\n",
       "      <th>capital_cost</th>\n",
       "      <th>build_year</th>\n",
       "      <th>lifetime</th>\n",
       "      <th>state_of_charge_initial</th>\n",
       "      <th>state_of_charge_initial_per_period</th>\n",
       "      <th>state_of_charge_set</th>\n",
       "      <th>cyclic_state_of_charge_per_period</th>\n",
       "      <th>standing_loss</th>\n",
       "      <th>inflow</th>\n",
       "      <th>p_nom_opt</th>\n",
       "    </tr>\n",
       "    <tr>\n",
       "      <th>StorageUnit</th>\n",
       "      <th></th>\n",
       "      <th></th>\n",
       "      <th></th>\n",
       "      <th></th>\n",
       "      <th></th>\n",
       "      <th></th>\n",
       "      <th></th>\n",
       "      <th></th>\n",
       "      <th></th>\n",
       "      <th></th>\n",
       "      <th></th>\n",
       "      <th></th>\n",
       "      <th></th>\n",
       "      <th></th>\n",
       "      <th></th>\n",
       "      <th></th>\n",
       "      <th></th>\n",
       "      <th></th>\n",
       "      <th></th>\n",
       "      <th></th>\n",
       "      <th></th>\n",
       "    </tr>\n",
       "  </thead>\n",
       "  <tbody>\n",
       "    <tr>\n",
       "      <th>NG1 1 hydro</th>\n",
       "      <td>NG1 1</td>\n",
       "      <td>0.0</td>\n",
       "      <td>0.0</td>\n",
       "      <td>0.9</td>\n",
       "      <td>True</td>\n",
       "      <td>1300.0</td>\n",
       "      <td>hydro</td>\n",
       "      <td>2282.031842</td>\n",
       "      <td>PQ</td>\n",
       "      <td></td>\n",
       "      <td>...</td>\n",
       "      <td>0.0</td>\n",
       "      <td>0</td>\n",
       "      <td>inf</td>\n",
       "      <td>0.0</td>\n",
       "      <td>False</td>\n",
       "      <td>NaN</td>\n",
       "      <td>True</td>\n",
       "      <td>0.0</td>\n",
       "      <td>0.0</td>\n",
       "      <td>0.0</td>\n",
       "    </tr>\n",
       "    <tr>\n",
       "      <th>NG1 2 hydro</th>\n",
       "      <td>NG1 2</td>\n",
       "      <td>0.0</td>\n",
       "      <td>0.0</td>\n",
       "      <td>0.9</td>\n",
       "      <td>True</td>\n",
       "      <td>1338.0</td>\n",
       "      <td>hydro</td>\n",
       "      <td>2282.031842</td>\n",
       "      <td>PQ</td>\n",
       "      <td></td>\n",
       "      <td>...</td>\n",
       "      <td>0.0</td>\n",
       "      <td>0</td>\n",
       "      <td>inf</td>\n",
       "      <td>0.0</td>\n",
       "      <td>False</td>\n",
       "      <td>NaN</td>\n",
       "      <td>True</td>\n",
       "      <td>0.0</td>\n",
       "      <td>0.0</td>\n",
       "      <td>0.0</td>\n",
       "    </tr>\n",
       "  </tbody>\n",
       "</table>\n",
       "<p>2 rows × 29 columns</p>\n",
       "</div>"
      ],
      "text/plain": [
       "               bus  efficiency_store  p_min_pu  efficiency_dispatch  \\\n",
       "StorageUnit                                                           \n",
       "NG1 1 hydro  NG1 1               0.0       0.0                  0.9   \n",
       "NG1 2 hydro  NG1 2               0.0       0.0                  0.9   \n",
       "\n",
       "             cyclic_state_of_charge   p_nom carrier    max_hours control type  \\\n",
       "StorageUnit                                                                     \n",
       "NG1 1 hydro                    True  1300.0   hydro  2282.031842      PQ        \n",
       "NG1 2 hydro                    True  1338.0   hydro  2282.031842      PQ        \n",
       "\n",
       "             ...  capital_cost  build_year  lifetime  state_of_charge_initial  \\\n",
       "StorageUnit  ...                                                                \n",
       "NG1 1 hydro  ...           0.0           0       inf                      0.0   \n",
       "NG1 2 hydro  ...           0.0           0       inf                      0.0   \n",
       "\n",
       "             state_of_charge_initial_per_period  state_of_charge_set  \\\n",
       "StorageUnit                                                            \n",
       "NG1 1 hydro                               False                  NaN   \n",
       "NG1 2 hydro                               False                  NaN   \n",
       "\n",
       "             cyclic_state_of_charge_per_period  standing_loss  inflow  \\\n",
       "StorageUnit                                                             \n",
       "NG1 1 hydro                               True            0.0     0.0   \n",
       "NG1 2 hydro                               True            0.0     0.0   \n",
       "\n",
       "             p_nom_opt  \n",
       "StorageUnit             \n",
       "NG1 1 hydro        0.0  \n",
       "NG1 2 hydro        0.0  \n",
       "\n",
       "[2 rows x 29 columns]"
      ]
     },
     "execution_count": 13,
     "metadata": {},
     "output_type": "execute_result"
    }
   ],
   "source": [
    "n.storage_units.head()\n"
   ]
  },
  {
   "cell_type": "code",
   "execution_count": 14,
   "metadata": {},
   "outputs": [
    {
     "data": {
      "text/html": [
       "<div>\n",
       "<style scoped>\n",
       "    .dataframe tbody tr th:only-of-type {\n",
       "        vertical-align: middle;\n",
       "    }\n",
       "\n",
       "    .dataframe tbody tr th {\n",
       "        vertical-align: top;\n",
       "    }\n",
       "\n",
       "    .dataframe thead th {\n",
       "        text-align: right;\n",
       "    }\n",
       "</style>\n",
       "<table border=\"1\" class=\"dataframe\">\n",
       "  <thead>\n",
       "    <tr style=\"text-align: right;\">\n",
       "      <th></th>\n",
       "      <th>bus</th>\n",
       "      <th>carrier</th>\n",
       "      <th>type</th>\n",
       "      <th>p_set</th>\n",
       "      <th>q_set</th>\n",
       "      <th>sign</th>\n",
       "    </tr>\n",
       "    <tr>\n",
       "      <th>Load</th>\n",
       "      <th></th>\n",
       "      <th></th>\n",
       "      <th></th>\n",
       "      <th></th>\n",
       "      <th></th>\n",
       "      <th></th>\n",
       "    </tr>\n",
       "  </thead>\n",
       "  <tbody>\n",
       "    <tr>\n",
       "      <th>BJ0 0</th>\n",
       "      <td>BJ0 0</td>\n",
       "      <td></td>\n",
       "      <td></td>\n",
       "      <td>0.0</td>\n",
       "      <td>0.0</td>\n",
       "      <td>-1.0</td>\n",
       "    </tr>\n",
       "    <tr>\n",
       "      <th>NG1 0</th>\n",
       "      <td>NG1 0</td>\n",
       "      <td></td>\n",
       "      <td></td>\n",
       "      <td>0.0</td>\n",
       "      <td>0.0</td>\n",
       "      <td>-1.0</td>\n",
       "    </tr>\n",
       "    <tr>\n",
       "      <th>NG1 1</th>\n",
       "      <td>NG1 1</td>\n",
       "      <td></td>\n",
       "      <td></td>\n",
       "      <td>0.0</td>\n",
       "      <td>0.0</td>\n",
       "      <td>-1.0</td>\n",
       "    </tr>\n",
       "    <tr>\n",
       "      <th>NG1 2</th>\n",
       "      <td>NG1 2</td>\n",
       "      <td></td>\n",
       "      <td></td>\n",
       "      <td>0.0</td>\n",
       "      <td>0.0</td>\n",
       "      <td>-1.0</td>\n",
       "    </tr>\n",
       "    <tr>\n",
       "      <th>NG1 3</th>\n",
       "      <td>NG1 3</td>\n",
       "      <td></td>\n",
       "      <td></td>\n",
       "      <td>0.0</td>\n",
       "      <td>0.0</td>\n",
       "      <td>-1.0</td>\n",
       "    </tr>\n",
       "  </tbody>\n",
       "</table>\n",
       "</div>"
      ],
      "text/plain": [
       "         bus carrier type  p_set  q_set  sign\n",
       "Load                                         \n",
       "BJ0 0  BJ0 0                 0.0    0.0  -1.0\n",
       "NG1 0  NG1 0                 0.0    0.0  -1.0\n",
       "NG1 1  NG1 1                 0.0    0.0  -1.0\n",
       "NG1 2  NG1 2                 0.0    0.0  -1.0\n",
       "NG1 3  NG1 3                 0.0    0.0  -1.0"
      ]
     },
     "execution_count": 14,
     "metadata": {},
     "output_type": "execute_result"
    }
   ],
   "source": [
    "n.loads.head()"
   ]
  },
  {
   "cell_type": "markdown",
   "metadata": {},
   "source": [
    "Time-varying component data\n"
   ]
  },
  {
   "cell_type": "code",
   "execution_count": 17,
   "metadata": {},
   "outputs": [
    {
     "data": {
      "text/plain": [
       "<AxesSubplot:xlabel='snapshot'>"
      ]
     },
     "execution_count": 17,
     "metadata": {},
     "output_type": "execute_result"
    },
    {
     "data": {
      "image/png": "[encoded data removed]",
      "text/plain": [
       "<Figure size 1500x300 with 1 Axes>"
      ]
     },
     "metadata": {},
     "output_type": "display_data"
    }
   ],
   "source": [
    "n.loads_t.p_set.sum(axis=1).plot(figsize=(15,3))"
   ]
  },
  {
   "cell_type": "code",
   "execution_count": 21,
   "metadata": {},
   "outputs": [
    {
     "data": {
      "text/plain": [
       "<AxesSubplot:xlabel='snapshot'>"
      ]
     },
     "execution_count": 21,
     "metadata": {},
     "output_type": "execute_result"
    },
    {
     "data": {
      "image/png": "[encoded data removed]",
      "text/plain": [
       "<Figure size 1500x300 with 1 Axes>"
      ]
     },
     "metadata": {},
     "output_type": "display_data"
    }
   ],
   "source": [
    "n.generators_t.p_max_pu.loc[\"2013-03\", \"NG1 0 solar\"].plot(figsize=(15,3))"
   ]
  },
  {
   "cell_type": "code",
   "execution_count": 23,
   "metadata": {},
   "outputs": [
    {
     "data": {
      "text/plain": [
       "Line\n",
       "1   -4021.821975\n",
       "2   -3016.366481\n",
       "3   -3016.366481\n",
       "4   -1497.011513\n",
       "dtype: float64"
      ]
     },
     "execution_count": 23,
     "metadata": {},
     "output_type": "execute_result"
    }
   ],
   "source": [
    "(n.lines.s_nom_opt - n.lines.s_nom).head(5)"
   ]
  },
  {
   "cell_type": "code",
   "execution_count": 24,
   "metadata": {},
   "outputs": [
    {
     "data": {
      "text/plain": [
       "carrier\n",
       "CCGT          0.0\n",
       "coal          0.0\n",
       "offwind-ac    0.0\n",
       "offwind-dc    0.0\n",
       "oil           0.0\n",
       "onwind        0.0\n",
       "solar         0.0\n",
       "Name: p_nom_opt, dtype: float64"
      ]
     },
     "execution_count": 24,
     "metadata": {},
     "output_type": "execute_result"
    }
   ],
   "source": [
    "n.generators.groupby(\"carrier\").p_nom_opt.sum() / 1e3 #GW"
   ]
  },
  {
   "cell_type": "code",
   "execution_count": 25,
   "metadata": {},
   "outputs": [
    {
     "data": {
      "text/plain": [
       "carrier\n",
       "hydro    0.0\n",
       "Name: p_nom_opt, dtype: float64"
      ]
     },
     "execution_count": 25,
     "metadata": {},
     "output_type": "execute_result"
    }
   ],
   "source": [
    "n.storage_units.groupby(\"carrier\").p_nom_opt.sum() / 1e3 #GW"
   ]
  },
  {
   "cell_type": "code",
   "execution_count": 26,
   "metadata": {},
   "outputs": [
    {
     "data": {
      "text/plain": [
       "<AxesSubplot:xlabel='snapshot'>"
      ]
     },
     "execution_count": 26,
     "metadata": {},
     "output_type": "execute_result"
    },
    {
     "data": {
      "image/png": "[encoded data removed]",
      "text/plain": [
       "<Figure size 1500x300 with 1 Axes>"
      ]
     },
     "metadata": {},
     "output_type": "display_data"
    }
   ],
   "source": [
    "#Energy storage\n",
    "\n",
    "(n.storage_units_t.state_of_charge.sum(axis=1).resample(\"D\").mean() / 1e6).plot(figsize=(15,3)) #TWh"
   ]
  },
  {
   "cell_type": "code",
   "execution_count": 27,
   "metadata": {},
   "outputs": [],
   "source": [
    "(n.storage_units_t.state_of_charge[\"2013-07\"].filter(like=\"battery\", axis=1).sum(axis=1) / 1e6).plot(figsize=(15,3)) #TWh"
   ]
  }
 ],
 "metadata": {
  "kernelspec": {
   "display_name": "pypsa-earth",
   "language": "python",
   "name": "python3"
  },
  "language_info": {
   "codemirror_mode": {
    "name": "ipython",
    "version": 3
   },
   "file_extension": ".py",
   "mimetype": "text/x-python",
   "name": "python",
   "nbconvert_exporter": "python",
   "pygments_lexer": "ipython3",
   "version": "3.10.12"
  },
  "orig_nbformat": 4
 },
 "nbformat": 4,
 "nbformat_minor": 2
}
